{
 "cells": [
  {
   "cell_type": "code",
   "execution_count": 1,
   "id": "f58d6926",
   "metadata": {},
   "outputs": [],
   "source": [
    "# Import the dependencies.\n",
    "import pandas as pd\n",
    "import matplotlib.pyplot as plt\n",
    "import numpy as np\n",
    "\n",
    "# Import the requests library.\n",
    "import requests\n",
    "\n",
    "# Import the API key.\n",
    "from config import weather_api_key\n",
    "\n",
    "# Import the time library and the datetime module from the datetime library \n",
    "import time\n",
    "from datetime import datetime"
   ]
  },
  {
   "cell_type": "code",
   "execution_count": 2,
   "id": "bf9184af",
   "metadata": {},
   "outputs": [
    {
     "data": {
      "text/plain": [
       "<zip at 0x7febec745f50>"
      ]
     },
     "execution_count": 2,
     "metadata": {},
     "output_type": "execute_result"
    }
   ],
   "source": [
    "# Create a set of random latitude and longitude combinations.\n",
    "lats = np.random.uniform(low=-90.000, high=90.000, size=1500)\n",
    "lngs = np.random.uniform(low=-180.000, high=180.000, size=1500)\n",
    "lat_lngs = zip(lats, lngs)\n",
    "lat_lngs"
   ]
  },
  {
   "cell_type": "code",
   "execution_count": 3,
   "id": "c9f82c0a",
   "metadata": {},
   "outputs": [],
   "source": [
    "# Add the latitudes and longitudes to a list.\n",
    "coordinates = list(lat_lngs)"
   ]
  },
  {
   "cell_type": "code",
   "execution_count": 4,
   "id": "b4b1e18a",
   "metadata": {},
   "outputs": [],
   "source": [
    "from citipy import citipy"
   ]
  },
  {
   "cell_type": "code",
   "execution_count": 5,
   "id": "cec84cdc",
   "metadata": {},
   "outputs": [
    {
     "data": {
      "text/plain": [
       "615"
      ]
     },
     "execution_count": 5,
     "metadata": {},
     "output_type": "execute_result"
    }
   ],
   "source": [
    "# Create a list for holding the cities.\n",
    "cities = []\n",
    "\n",
    "# Identify the nearest city for each latitude and longitude combination.\n",
    "for coordinate in coordinates:\n",
    "    city = citipy.nearest_city(coordinate[0], coordinate[1]).city_name\n",
    "\n",
    "    # If the city is unique, then we will add it to the cities list.\n",
    "    if city not in cities:\n",
    "        cities.append(city)\n",
    "        \n",
    "# Print the city count to confirm sufficient count.\n",
    "len(cities)"
   ]
  },
  {
   "cell_type": "code",
   "execution_count": 6,
   "id": "9bea567a",
   "metadata": {},
   "outputs": [],
   "source": [
    "# Starting URL for Weather Map API Call.\n",
    "url = \"http://api.openweathermap.org/data/2.5/weather?units=Imperial&APPID=\" + weather_api_key"
   ]
  },
  {
   "cell_type": "code",
   "execution_count": 7,
   "id": "7d381d50",
   "metadata": {},
   "outputs": [
    {
     "name": "stdout",
     "output_type": "stream",
     "text": [
      "Beginning Data Retrieval     \n",
      "-----------------------------\n",
      "Processing Record 1 of Set 13 | hasaki\n",
      "Processing Record 2 of Set 13 | puerto ayora\n",
      "Processing Record 3 of Set 13 | albany\n",
      "Processing Record 4 of Set 13 | rikitea\n",
      "Processing Record 5 of Set 13 | chuy\n",
      "Processing Record 6 of Set 13 | longyearbyen\n",
      "Processing Record 7 of Set 13 | yellowknife\n",
      "Processing Record 8 of Set 13 | yichang\n",
      "Processing Record 9 of Set 13 | carnarvon\n",
      "Processing Record 10 of Set 13 | atuona\n",
      "Processing Record 11 of Set 13 | ushuaia\n",
      "Processing Record 12 of Set 13 | taolanaro\n",
      "City not found. Skipping...\n",
      "Processing Record 13 of Set 13 | saleaula\n",
      "City not found. Skipping...\n",
      "Processing Record 14 of Set 13 | ahipara\n",
      "Processing Record 15 of Set 13 | lata\n",
      "Processing Record 16 of Set 13 | tiksi\n",
      "Processing Record 17 of Set 13 | vana-vigala\n",
      "Processing Record 18 of Set 13 | ola\n",
      "Processing Record 19 of Set 13 | mataura\n",
      "Processing Record 20 of Set 13 | srednekolymsk\n",
      "Processing Record 21 of Set 13 | belen\n",
      "Processing Record 22 of Set 13 | kahului\n",
      "Processing Record 23 of Set 13 | butaritari\n",
      "Processing Record 24 of Set 13 | neiafu\n",
      "Processing Record 25 of Set 13 | mugur-aksy\n",
      "Processing Record 26 of Set 13 | nanortalik\n",
      "Processing Record 27 of Set 13 | avarua\n",
      "Processing Record 28 of Set 13 | sayat\n",
      "Processing Record 29 of Set 13 | busselton\n",
      "Processing Record 30 of Set 13 | hobart\n",
      "Processing Record 31 of Set 13 | pangnirtung\n",
      "Processing Record 32 of Set 13 | la ronge\n",
      "Processing Record 33 of Set 13 | grand centre\n",
      "City not found. Skipping...\n",
      "Processing Record 34 of Set 13 | mar del plata\n",
      "Processing Record 35 of Set 13 | airai\n",
      "Processing Record 36 of Set 13 | boyolangu\n",
      "Processing Record 37 of Set 13 | port elizabeth\n",
      "Processing Record 38 of Set 13 | sambava\n",
      "Processing Record 39 of Set 13 | bluff\n",
      "Processing Record 40 of Set 13 | saint-philippe\n",
      "Processing Record 41 of Set 13 | nikolskoye\n",
      "Processing Record 42 of Set 13 | upernavik\n",
      "Processing Record 43 of Set 13 | jamestown\n",
      "Processing Record 44 of Set 13 | pochutla\n",
      "Processing Record 45 of Set 13 | iqaluit\n",
      "Processing Record 46 of Set 13 | sentyabrskiy\n",
      "City not found. Skipping...\n",
      "Processing Record 47 of Set 13 | tsihombe\n",
      "City not found. Skipping...\n",
      "Processing Record 48 of Set 13 | santa cruz de rosales\n",
      "City not found. Skipping...\n",
      "Processing Record 49 of Set 13 | bredasdorp\n",
      "Processing Record 50 of Set 13 | cherskiy\n",
      "Processing Record 1 of Set 14 | paracuru\n",
      "Processing Record 2 of Set 14 | garissa\n",
      "Processing Record 3 of Set 14 | sokone\n",
      "Processing Record 4 of Set 14 | illoqqortoormiut\n",
      "City not found. Skipping...\n",
      "Processing Record 5 of Set 14 | la tuque\n",
      "Processing Record 6 of Set 14 | khatanga\n",
      "Processing Record 7 of Set 14 | cidreira\n",
      "Processing Record 8 of Set 14 | maumere\n",
      "Processing Record 9 of Set 14 | cairns\n",
      "Processing Record 10 of Set 14 | hithadhoo\n",
      "Processing Record 11 of Set 14 | barrow\n",
      "Processing Record 12 of Set 14 | puerto madryn\n",
      "Processing Record 13 of Set 14 | georgetown\n",
      "Processing Record 14 of Set 14 | azua\n",
      "Processing Record 15 of Set 14 | miandrivazo\n",
      "Processing Record 16 of Set 14 | varzea da palma\n",
      "Processing Record 17 of Set 14 | kousseri\n",
      "Processing Record 18 of Set 14 | port alfred\n",
      "Processing Record 19 of Set 14 | joshimath\n",
      "Processing Record 20 of Set 14 | toora-khem\n",
      "Processing Record 21 of Set 14 | yakeshi\n",
      "Processing Record 22 of Set 14 | ust-kamchatsk\n",
      "City not found. Skipping...\n",
      "Processing Record 23 of Set 14 | bambous virieux\n",
      "Processing Record 24 of Set 14 | florianopolis\n",
      "Processing Record 25 of Set 14 | mahebourg\n",
      "Processing Record 26 of Set 14 | lebu\n",
      "Processing Record 27 of Set 14 | arraial do cabo\n",
      "Processing Record 28 of Set 14 | mount pleasant\n",
      "Processing Record 29 of Set 14 | terrace\n",
      "Processing Record 30 of Set 14 | kavieng\n",
      "Processing Record 31 of Set 14 | santa vitoria do palmar\n",
      "Processing Record 32 of Set 14 | clemencia\n",
      "Processing Record 33 of Set 14 | erzincan\n",
      "Processing Record 34 of Set 14 | samarai\n",
      "Processing Record 35 of Set 14 | camargo\n",
      "Processing Record 36 of Set 14 | fortuna\n",
      "Processing Record 37 of Set 14 | tabou\n",
      "Processing Record 38 of Set 14 | punta arenas\n",
      "Processing Record 39 of Set 14 | east london\n",
      "Processing Record 40 of Set 14 | severnyy\n",
      "Processing Record 41 of Set 14 | belushya guba\n",
      "City not found. Skipping...\n",
      "Processing Record 42 of Set 14 | severo-kurilsk\n",
      "Processing Record 43 of Set 14 | saint-augustin\n",
      "Processing Record 44 of Set 14 | tuktoyaktuk\n",
      "Processing Record 45 of Set 14 | barentsburg\n",
      "City not found. Skipping...\n",
      "Processing Record 46 of Set 14 | punta gorda\n",
      "Processing Record 47 of Set 14 | cape town\n",
      "Processing Record 48 of Set 14 | ahuimanu\n",
      "Processing Record 49 of Set 14 | fuyang\n",
      "Processing Record 50 of Set 14 | solnechnyy\n"
     ]
    },
    {
     "ename": "KeyboardInterrupt",
     "evalue": "",
     "output_type": "error",
     "traceback": [
      "\u001b[0;31m---------------------------------------------------------------------------\u001b[0m",
      "\u001b[0;31mKeyboardInterrupt\u001b[0m                         Traceback (most recent call last)",
      "\u001b[0;32m/var/folders/6t/rg670sw10pz613yqkllk7fx40000gn/T/ipykernel_1171/2998973387.py\u001b[0m in \u001b[0;36m<module>\u001b[0;34m\u001b[0m\n\u001b[1;32m     28\u001b[0m         \u001b[0mset_count\u001b[0m \u001b[0;34m+=\u001b[0m \u001b[0;36m1\u001b[0m\u001b[0;34m\u001b[0m\u001b[0;34m\u001b[0m\u001b[0m\n\u001b[1;32m     29\u001b[0m         \u001b[0mrecord_count\u001b[0m \u001b[0;34m=\u001b[0m \u001b[0;36m1\u001b[0m\u001b[0;34m\u001b[0m\u001b[0;34m\u001b[0m\u001b[0m\n\u001b[0;32m---> 30\u001b[0;31m         \u001b[0mtime\u001b[0m\u001b[0;34m.\u001b[0m\u001b[0msleep\u001b[0m\u001b[0;34m(\u001b[0m\u001b[0;36m60\u001b[0m\u001b[0;34m)\u001b[0m\u001b[0;34m\u001b[0m\u001b[0;34m\u001b[0m\u001b[0m\n\u001b[0m\u001b[1;32m     31\u001b[0m \u001b[0;34m\u001b[0m\u001b[0m\n\u001b[1;32m     32\u001b[0m     \u001b[0;31m# Create endpoint URL with each city.\u001b[0m\u001b[0;34m\u001b[0m\u001b[0;34m\u001b[0m\u001b[0;34m\u001b[0m\u001b[0m\n",
      "\u001b[0;31mKeyboardInterrupt\u001b[0m: "
     ]
    }
   ],
   "source": [
    "# Create an empty list to hold the weather data.\n",
    "city_data = []\n",
    "# Print the beginning of the logging.\n",
    "print(\"Beginning Data Retrieval     \")\n",
    "print(\"-----------------------------\")\n",
    "\n",
    "# Create counters.\n",
    "record_count = 1\n",
    "set_count = 1\n",
    "\n",
    "# Loop through all the cities in our list.\n",
    "for i in range(len(cities)):\n",
    "\n",
    "    # Group cities in sets of 50 for logging purposes.\n",
    "    if (i % 50 == 0 and i >= 50):\n",
    "        set_count += 1\n",
    "        record_count = 1\n",
    "        time.sleep(60)\n",
    "\n",
    "    # Create endpoint URL with each city.\n",
    "    city_url = url + \"&q=\" + cities[i]\n",
    "    \n",
    "# Loop through all the cities in the list.\n",
    "for i, city in enumerate(cities):\n",
    "\n",
    "    # Group cities in sets of 50 for logging purposes.\n",
    "    if (i % 50 == 0 and i >= 50):\n",
    "        set_count += 1\n",
    "        record_count = 1\n",
    "        time.sleep(60)\n",
    "\n",
    "    # Create endpoint URL with each city.\n",
    "    city_url = url + \"&q=\" + city.replace(\" \",\"+\")\n",
    "\n",
    "    # Log the URL, record, and set numbers and the city.\n",
    "    print(f\"Processing Record {record_count} of Set {set_count} | {city}\")\n",
    "    # Add 1 to the record count.\n",
    "    record_count += 1\n",
    "    \n",
    "# Run an API request for each of the cities.\n",
    "    try:\n",
    "        # Parse the JSON and retrieve data.\n",
    "        city_weather = requests.get(city_url).json()\n",
    "        # Parse out the needed data.\n",
    "        city_lat = city_weather[\"coord\"][\"lat\"]\n",
    "        city_lng = city_weather[\"coord\"][\"lon\"]\n",
    "        city_max_temp = city_weather[\"main\"][\"temp_max\"]\n",
    "        city_humidity = city_weather[\"main\"][\"humidity\"]\n",
    "        city_clouds = city_weather[\"clouds\"][\"all\"]\n",
    "        city_wind = city_weather[\"wind\"][\"speed\"]\n",
    "        city_country = city_weather[\"sys\"][\"country\"]\n",
    "        # Convert the date to ISO standard.\n",
    "        city_date = datetime.utcfromtimestamp(city_weather[\"dt\"]).strftime('%Y-%m-%d %H:%M:%S')\n",
    "        # Append the city information into city_data list.\n",
    "        city_data.append({\"City\": city.title(),\n",
    "                          \"Lat\": city_lat,\n",
    "                          \"Lng\": city_lng,\n",
    "                          \"Max Temp\": city_max_temp,\n",
    "                          \"Humidity\": city_humidity,\n",
    "                          \"Cloudiness\": city_clouds,\n",
    "                          \"Wind Speed\": city_wind,\n",
    "                          \"Country\": city_country,\n",
    "                          \"Date\": city_date})\n",
    "\n",
    "# If an error is experienced, skip the city.\n",
    "    except:\n",
    "        print(\"City not found. Skipping...\")\n",
    "        pass\n",
    "\n",
    "# Indicate that Data Loading is complete.\n",
    "print(\"-----------------------------\")\n",
    "print(\"Data Retrieval Complete      \")\n",
    "print(\"-----------------------------\")"
   ]
  },
  {
   "cell_type": "code",
   "execution_count": 8,
   "id": "0a771378",
   "metadata": {},
   "outputs": [
    {
     "data": {
      "text/html": [
       "<div>\n",
       "<style scoped>\n",
       "    .dataframe tbody tr th:only-of-type {\n",
       "        vertical-align: middle;\n",
       "    }\n",
       "\n",
       "    .dataframe tbody tr th {\n",
       "        vertical-align: top;\n",
       "    }\n",
       "\n",
       "    .dataframe thead th {\n",
       "        text-align: right;\n",
       "    }\n",
       "</style>\n",
       "<table border=\"1\" class=\"dataframe\">\n",
       "  <thead>\n",
       "    <tr style=\"text-align: right;\">\n",
       "      <th></th>\n",
       "      <th>City</th>\n",
       "      <th>Country</th>\n",
       "      <th>Date</th>\n",
       "      <th>Lat</th>\n",
       "      <th>Lng</th>\n",
       "      <th>Max Temp</th>\n",
       "      <th>Humidity</th>\n",
       "      <th>Cloudiness</th>\n",
       "      <th>Wind Speed</th>\n",
       "    </tr>\n",
       "  </thead>\n",
       "  <tbody>\n",
       "    <tr>\n",
       "      <th>0</th>\n",
       "      <td>Hasaki</td>\n",
       "      <td>JP</td>\n",
       "      <td>2022-07-18 23:20:32</td>\n",
       "      <td>35.7333</td>\n",
       "      <td>140.8333</td>\n",
       "      <td>82.80</td>\n",
       "      <td>87</td>\n",
       "      <td>100</td>\n",
       "      <td>14.54</td>\n",
       "    </tr>\n",
       "    <tr>\n",
       "      <th>1</th>\n",
       "      <td>Puerto Ayora</td>\n",
       "      <td>EC</td>\n",
       "      <td>2022-07-18 23:16:59</td>\n",
       "      <td>-0.7393</td>\n",
       "      <td>-90.3518</td>\n",
       "      <td>69.55</td>\n",
       "      <td>94</td>\n",
       "      <td>92</td>\n",
       "      <td>3.00</td>\n",
       "    </tr>\n",
       "    <tr>\n",
       "      <th>2</th>\n",
       "      <td>Albany</td>\n",
       "      <td>US</td>\n",
       "      <td>2022-07-18 23:19:18</td>\n",
       "      <td>42.6001</td>\n",
       "      <td>-73.9662</td>\n",
       "      <td>77.41</td>\n",
       "      <td>87</td>\n",
       "      <td>100</td>\n",
       "      <td>4.00</td>\n",
       "    </tr>\n",
       "    <tr>\n",
       "      <th>3</th>\n",
       "      <td>Rikitea</td>\n",
       "      <td>PF</td>\n",
       "      <td>2022-07-18 23:20:33</td>\n",
       "      <td>-23.1203</td>\n",
       "      <td>-134.9692</td>\n",
       "      <td>74.66</td>\n",
       "      <td>75</td>\n",
       "      <td>14</td>\n",
       "      <td>11.39</td>\n",
       "    </tr>\n",
       "    <tr>\n",
       "      <th>4</th>\n",
       "      <td>Chuy</td>\n",
       "      <td>UY</td>\n",
       "      <td>2022-07-18 23:20:34</td>\n",
       "      <td>-33.6971</td>\n",
       "      <td>-53.4616</td>\n",
       "      <td>47.75</td>\n",
       "      <td>82</td>\n",
       "      <td>2</td>\n",
       "      <td>3.00</td>\n",
       "    </tr>\n",
       "    <tr>\n",
       "      <th>5</th>\n",
       "      <td>Longyearbyen</td>\n",
       "      <td>SJ</td>\n",
       "      <td>2022-07-18 23:20:35</td>\n",
       "      <td>78.2186</td>\n",
       "      <td>15.6401</td>\n",
       "      <td>51.64</td>\n",
       "      <td>66</td>\n",
       "      <td>40</td>\n",
       "      <td>9.22</td>\n",
       "    </tr>\n",
       "    <tr>\n",
       "      <th>6</th>\n",
       "      <td>Yellowknife</td>\n",
       "      <td>CA</td>\n",
       "      <td>2022-07-18 23:17:03</td>\n",
       "      <td>62.4560</td>\n",
       "      <td>-114.3525</td>\n",
       "      <td>73.92</td>\n",
       "      <td>49</td>\n",
       "      <td>75</td>\n",
       "      <td>4.61</td>\n",
       "    </tr>\n",
       "    <tr>\n",
       "      <th>7</th>\n",
       "      <td>Yichang</td>\n",
       "      <td>CN</td>\n",
       "      <td>2022-07-18 23:20:36</td>\n",
       "      <td>30.7144</td>\n",
       "      <td>111.2847</td>\n",
       "      <td>79.12</td>\n",
       "      <td>92</td>\n",
       "      <td>91</td>\n",
       "      <td>0.69</td>\n",
       "    </tr>\n",
       "    <tr>\n",
       "      <th>8</th>\n",
       "      <td>Carnarvon</td>\n",
       "      <td>AU</td>\n",
       "      <td>2022-07-18 23:20:36</td>\n",
       "      <td>-24.8667</td>\n",
       "      <td>113.6333</td>\n",
       "      <td>60.42</td>\n",
       "      <td>67</td>\n",
       "      <td>0</td>\n",
       "      <td>13.33</td>\n",
       "    </tr>\n",
       "    <tr>\n",
       "      <th>9</th>\n",
       "      <td>Atuona</td>\n",
       "      <td>PF</td>\n",
       "      <td>2022-07-18 23:20:37</td>\n",
       "      <td>-9.8000</td>\n",
       "      <td>-139.0333</td>\n",
       "      <td>77.65</td>\n",
       "      <td>67</td>\n",
       "      <td>62</td>\n",
       "      <td>16.11</td>\n",
       "    </tr>\n",
       "  </tbody>\n",
       "</table>\n",
       "</div>"
      ],
      "text/plain": [
       "           City Country                 Date      Lat       Lng  Max Temp  \\\n",
       "0        Hasaki      JP  2022-07-18 23:20:32  35.7333  140.8333     82.80   \n",
       "1  Puerto Ayora      EC  2022-07-18 23:16:59  -0.7393  -90.3518     69.55   \n",
       "2        Albany      US  2022-07-18 23:19:18  42.6001  -73.9662     77.41   \n",
       "3       Rikitea      PF  2022-07-18 23:20:33 -23.1203 -134.9692     74.66   \n",
       "4          Chuy      UY  2022-07-18 23:20:34 -33.6971  -53.4616     47.75   \n",
       "5  Longyearbyen      SJ  2022-07-18 23:20:35  78.2186   15.6401     51.64   \n",
       "6   Yellowknife      CA  2022-07-18 23:17:03  62.4560 -114.3525     73.92   \n",
       "7       Yichang      CN  2022-07-18 23:20:36  30.7144  111.2847     79.12   \n",
       "8     Carnarvon      AU  2022-07-18 23:20:36 -24.8667  113.6333     60.42   \n",
       "9        Atuona      PF  2022-07-18 23:20:37  -9.8000 -139.0333     77.65   \n",
       "\n",
       "   Humidity  Cloudiness  Wind Speed  \n",
       "0        87         100       14.54  \n",
       "1        94          92        3.00  \n",
       "2        87         100        4.00  \n",
       "3        75          14       11.39  \n",
       "4        82           2        3.00  \n",
       "5        66          40        9.22  \n",
       "6        49          75        4.61  \n",
       "7        92          91        0.69  \n",
       "8        67           0       13.33  \n",
       "9        67          62       16.11  "
      ]
     },
     "execution_count": 8,
     "metadata": {},
     "output_type": "execute_result"
    }
   ],
   "source": [
    "# Convert the array of dictionaries to a Pandas DataFrame.\n",
    "city_data_df = pd.DataFrame(city_data)\n",
    "\n",
    "new_column_order = [\"City\", \"Country\", \"Date\", \"Lat\", \"Lng\", \"Max Temp\", \"Humidity\", \"Cloudiness\", \"Wind Speed\"]\n",
    "city_data_df = city_data_df[new_column_order]\n",
    "city_data_df.head(10)"
   ]
  },
  {
   "cell_type": "code",
   "execution_count": 9,
   "id": "fbcd77ca",
   "metadata": {},
   "outputs": [],
   "source": [
    "# Create the output file (CSV).\n",
    "output_data_file = \"weather_data/cities.csv\"\n",
    "# Export the City_Data into a CSV.\n",
    "city_data_df.to_csv(output_data_file, index_label=\"City_ID\")"
   ]
  },
  {
   "cell_type": "code",
   "execution_count": 10,
   "id": "82a346a9",
   "metadata": {},
   "outputs": [],
   "source": [
    "# Extract relevant fields from the DataFrame for plotting.\n",
    "lats = city_data_df[\"Lat\"]\n",
    "max_temps = city_data_df[\"Max Temp\"]\n",
    "humidity = city_data_df[\"Humidity\"]\n",
    "cloudiness = city_data_df[\"Cloudiness\"]\n",
    "wind_speed = city_data_df[\"Wind Speed\"]"
   ]
  },
  {
   "cell_type": "code",
   "execution_count": 11,
   "id": "5f342bd5",
   "metadata": {},
   "outputs": [
    {
     "data": {
      "text/plain": [
       "1658186588.6787"
      ]
     },
     "execution_count": 11,
     "metadata": {},
     "output_type": "execute_result"
    }
   ],
   "source": [
    "# Import the time module.\n",
    "import time\n",
    "# Get today's date in seconds.\n",
    "today = time.time()\n",
    "today"
   ]
  },
  {
   "cell_type": "code",
   "execution_count": 12,
   "id": "f04c71f1",
   "metadata": {},
   "outputs": [
    {
     "data": {
      "image/png": "[encoded data removed]",
      "text/plain": [
       "<Figure size 432x288 with 1 Axes>"
      ]
     },
     "metadata": {
      "needs_background": "light"
     },
     "output_type": "display_data"
    }
   ],
   "source": [
    "# Import time module\n",
    "import time\n",
    "\n",
    "# Build the scatter plot for latitude vs. max temperature.\n",
    "plt.scatter(lats,\n",
    "            max_temps,\n",
    "            edgecolor=\"black\", linewidths=1, marker=\"o\",\n",
    "            alpha=0.8, label=\"Cities\")\n",
    "\n",
    "# Incorporate the other graph properties.\n",
    "plt.title(f\"City Latitude vs. Max Temperature \"+ time.strftime(\"%x\"))\n",
    "plt.ylabel(\"Max Temperature (F)\")\n",
    "plt.xlabel(\"Latitude\")\n",
    "plt.grid(True)\n",
    "\n",
    "# Save the figure.\n",
    "plt.savefig(\"weather_data/Fig1.png\")\n",
    "\n",
    "# Show plot.\n",
    "plt.show()"
   ]
  },
  {
   "cell_type": "code",
   "execution_count": 13,
   "id": "020527bf",
   "metadata": {},
   "outputs": [
    {
     "data": {
      "image/png": "[encoded data removed]",
      "text/plain": [
       "<Figure size 432x288 with 1 Axes>"
      ]
     },
     "metadata": {
      "needs_background": "light"
     },
     "output_type": "display_data"
    }
   ],
   "source": [
    "# Build the scatter plots for latitude vs. humidity.\n",
    "plt.scatter(lats,\n",
    "            humidity,\n",
    "            edgecolor=\"black\", linewidths=1, marker=\"o\",\n",
    "            alpha=0.8, label=\"Cities\")\n",
    "\n",
    "# Incorporate the other graph properties.\n",
    "plt.title(f\"City Latitude vs. Humidity \"+ time.strftime(\"%x\"))\n",
    "plt.ylabel(\"Humidity (%)\")\n",
    "plt.xlabel(\"Latitude\")\n",
    "plt.grid(True)\n",
    "# Save the figure.\n",
    "plt.savefig(\"weather_data/Fig2.png\")\n",
    "# Show plot.\n",
    "plt.show()\n"
   ]
  },
  {
   "cell_type": "code",
   "execution_count": 14,
   "id": "d2e2ca48",
   "metadata": {},
   "outputs": [
    {
     "data": {
      "image/png": "[encoded data removed]",
      "text/plain": [
       "<Figure size 432x288 with 1 Axes>"
      ]
     },
     "metadata": {
      "needs_background": "light"
     },
     "output_type": "display_data"
    }
   ],
   "source": [
    "# Build the scatter plots for latitude vs. cloudiness.\n",
    "plt.scatter(lats,\n",
    "            cloudiness,\n",
    "            edgecolor=\"black\", linewidths=1, marker=\"o\",\n",
    "            alpha=0.8, label=\"Cities\")\n",
    "\n",
    "# Incorporate the other graph properties.\n",
    "plt.title(f\"City Latitude vs. Cloudiness (%) \"+ time.strftime(\"%x\"))\n",
    "plt.ylabel(\"Cloudiness (%)\")\n",
    "plt.xlabel(\"Latitude\")\n",
    "plt.grid(True)\n",
    "# Save the figure.\n",
    "plt.savefig(\"weather_data/Fig3.png\")\n",
    "# Show plot.\n",
    "plt.show()\n"
   ]
  },
  {
   "cell_type": "code",
   "execution_count": 15,
   "id": "dc2c2c1e",
   "metadata": {},
   "outputs": [
    {
     "data": {
      "image/png": "[encoded data removed]",
      "text/plain": [
       "<Figure size 432x288 with 1 Axes>"
      ]
     },
     "metadata": {
      "needs_background": "light"
     },
     "output_type": "display_data"
    }
   ],
   "source": [
    "# Build the scatter plots for latitude vs. wind speed.\n",
    "plt.scatter(lats,\n",
    "            wind_speed,\n",
    "            edgecolor=\"black\", linewidths=1, marker=\"o\",\n",
    "            alpha=0.8, label=\"Cities\")\n",
    "\n",
    "# Incorporate the other graph properties.\n",
    "plt.title(f\"City Latitude vs. Wind Speed \"+ time.strftime(\"%x\"))\n",
    "plt.ylabel(\"Wind Speed (mph)\")\n",
    "plt.xlabel(\"Latitude\")\n",
    "plt.grid(True)\n",
    "# Save the figure.\n",
    "plt.savefig(\"weather_data/Fig4.png\")\n",
    "# Show plot.\n",
    "plt.show()\n"
   ]
  },
  {
   "cell_type": "code",
   "execution_count": null,
   "id": "375cccdb",
   "metadata": {},
   "outputs": [],
   "source": []
  }
 ],
 "metadata": {
  "kernelspec": {
   "display_name": "PythonData",
   "language": "python",
   "name": "pythondata"
  },
  "language_info": {
   "codemirror_mode": {
    "name": "ipython",
    "version": 3
   },
   "file_extension": ".py",
   "mimetype": "text/x-python",
   "name": "python",
   "nbconvert_exporter": "python",
   "pygments_lexer": "ipython3",
   "version": "3.7.13"
  }
 },
 "nbformat": 4,
 "nbformat_minor": 5
}
